{
  "nbformat": 4,
  "nbformat_minor": 0,
  "metadata": {
    "colab": {
      "name": "randomseed.ipynb",
      "provenance": [],
      "authorship_tag": "ABX9TyM7lMwzJNq4ilA6DXUBUCoW",
      "include_colab_link": true
    },
    "kernelspec": {
      "name": "python3",
      "display_name": "Python 3"
    },
    "language_info": {
      "name": "python"
    }
  },
  "cells": [
    {
      "cell_type": "markdown",
      "metadata": {
        "id": "view-in-github",
        "colab_type": "text"
      },
      "source": [
        "<a href=\"https://colab.research.google.com/github/NurFortuna/YZ_Akademi_Proje_2/blob/master/randomseed.ipynb\" target=\"_parent\"><img src=\"https://colab.research.google.com/assets/colab-badge.svg\" alt=\"Open In Colab\"/></a>"
      ]
    },
    {
      "cell_type": "markdown",
      "source": [
        "### **Random Seed Nedir?**"
      ],
      "metadata": {
        "id": "wevooZBR4XYp"
      }
    },
    {
      "cell_type": "markdown",
      "source": [
        "Python'da rastgele sayılar üretmek için kullanılır."
      ],
      "metadata": {
        "id": "QY5GvGmc5XjZ"
      }
    },
    {
      "cell_type": "code",
      "execution_count": 2,
      "metadata": {
        "id": "8m282IL4vK54"
      },
      "outputs": [],
      "source": [
        "#import library\n",
        "import random"
      ]
    },
    {
      "cell_type": "markdown",
      "source": [
        "Syntax"
      ],
      "metadata": {
        "id": "HynLbNDqLnd9"
      }
    },
    {
      "cell_type": "code",
      "source": [
        "#random.seed(a, version)\n",
        "#iki parametre alıyor ve her ikisi de isteğe bağlı parametreler."
      ],
      "metadata": {
        "id": "yI6e5nvmLwUM"
      },
      "execution_count": 15,
      "outputs": []
    },
    {
      "cell_type": "markdown",
      "source": [
        "\n",
        "* a: \n",
        "Tamsayı ise doğrudan kullanılır, değilse tamsayıya çevrilmelidir.Varsayılan değeri yoktur.[1]\n",
        "* \n",
        "version:\n",
        "Bir parametrenin bir tamsayıya nasıl dönüştürüleceğini belirten bir tamsayı. Varsayılan değeri 2'dir.[1]\n",
        "\n"
      ],
      "metadata": {
        "id": "EiEL3BQVMGWK"
      }
    },
    {
      "cell_type": "markdown",
      "source": [
        "Burada random.seed()'in ihtiyaç duyduğu şey bir sayı(tohum değeri)'dir. "
      ],
      "metadata": {
        "id": "_jLZbKNi9yZn"
      }
    },
    {
      "cell_type": "code",
      "source": [
        "for i in range(5):\n",
        "    random.seed(10)\n",
        "    print(random.random())\n"
      ],
      "metadata": {
        "colab": {
          "base_uri": "https://localhost:8080/"
        },
        "id": "yc4z6GbO4acs",
        "outputId": "02a6d674-660c-41dc-8fb4-ed1f3ef40e1d"
      },
      "execution_count": 13,
      "outputs": [
        {
          "output_type": "stream",
          "name": "stdout",
          "text": [
            "0.5714025946899135\n",
            "0.5714025946899135\n",
            "0.5714025946899135\n",
            "0.5714025946899135\n",
            "0.5714025946899135\n"
          ]
        }
      ]
    },
    {
      "cell_type": "markdown",
      "source": [
        "Yukarıda görüldüğü üzere aynı seed() değerini verdiğimizde ise aynı rastgele sayıyı alırız."
      ],
      "metadata": {
        "id": "Q_Z0s4QG_Hgl"
      }
    },
    {
      "cell_type": "code",
      "source": [
        "for i in range(5):\n",
        "    #random.seed(10)\n",
        "    print(random.random())"
      ],
      "metadata": {
        "colab": {
          "base_uri": "https://localhost:8080/"
        },
        "id": "dKqE_TMnNuI6",
        "outputId": "31ad63c0-b0a5-4efc-802f-defb604a4909"
      },
      "execution_count": 16,
      "outputs": [
        {
          "output_type": "stream",
          "name": "stdout",
          "text": [
            "0.4288890546751146\n",
            "0.5780913011344704\n",
            "0.20609823213950174\n",
            "0.81332125135732\n",
            "0.8235888725334455\n"
          ]
        }
      ]
    },
    {
      "cell_type": "markdown",
      "source": [
        "Bir diğer yandan seed() değerini girmezsek her seferinde farklı değerler elde ederiz."
      ],
      "metadata": {
        "id": "Ndk0Gr1uNuoU"
      }
    },
    {
      "cell_type": "markdown",
      "source": [
        "### **random.seed(42)**"
      ],
      "metadata": {
        "id": "1jdUfXs6BC5s"
      }
    },
    {
      "cell_type": "markdown",
      "source": [
        "**“life, the universe and everything” is 42.**\n",
        "\n",
        "\n"
      ],
      "metadata": {
        "id": "QXvGdwRjDKsz"
      }
    },
    {
      "cell_type": "markdown",
      "source": [
        "Otostopçunun galaksi rehberi kitabında süper bilgisayar Deep Thought yaşam,evrem ve her şeyin sırrının \"42\" olduğunu söyler. Bilim kurgu literatüründe önemli bir yeri olan bu kavram bunun gibi bir sürü yerde kullanılır.\n",
        "\n",
        "Diğer fikirlerden bazıları:\n",
        "\n",
        "*   Bazıları ikili kodda 42'nin 101010 olduğu için seçildiğini öne sürüyor, bazıları ise ışığın bir su yüzeyinden 42 derece kırılarak bir gökkuşağı oluşturduğuna dikkat çekiyor.\n",
        "*  Diğer bir yaygın teori, 42'nin kitapların tekrar eden bir teması olan kriketteki yasaların sayısını ifade etmesidir.\n",
        "* Diğerleri, ışığın bir protonun çapını geçmesi için 10⁻⁴² saniye gerektirdiğini yorumladı[2].\n",
        "   \n",
        "\n",
        "\n",
        "\n"
      ],
      "metadata": {
        "id": "zNAAwgjVDUNB"
      }
    },
    {
      "cell_type": "markdown",
      "source": [
        "\n",
        "\n",
        "* [1] https://www.w3schools.com/python/ref_random_seed.asp\n",
        "* [2]https://medium.com/geekculture/the-story-behind-random-seed-42-in-machine-learning-b838c4ac290a\n",
        "\n"
      ],
      "metadata": {
        "id": "45vUY4hOLE9Z"
      }
    }
  ]
}